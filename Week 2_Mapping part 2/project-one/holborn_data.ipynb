{
 "cells": [
  {
   "cell_type": "code",
   "execution_count": 1,
   "metadata": {},
   "outputs": [],
   "source": [
    "import pandas as pd"
   ]
  },
  {
   "cell_type": "code",
   "execution_count": 3,
   "metadata": {},
   "outputs": [],
   "source": [
    "# Given data\n",
    "data = {\n",
    "    \"Business Name\": [\"Holborn Cafe\", \"Another Cafe\", \"Cafe Bistro\", \"Third Cafe\", \"Fourth Cafe\", \"Fifth Cafe\"],\n",
    "    \"Postcode\": [\"WC1A 1AB\", \"WC2B 2BB\", \"WC3C 3CC\", \"WC4D 4DD\", \"WC5E 5EE\", \"WC6F 6FF\"],\n",
    "    \"Phone Number\": [\"020 1234 5678\", \"020 9876 5432\", \"020 1111 2222\", \"020 3333 4444\", \"020 5555 6666\", \"020 7777 8888\"],\n",
    "    \"Social Media\": [\"www.facebook.com/holborncafe\", \"www.twitter.com/anothercafe\", \"www.instagram.com/cafebistro\", \"www.linkedin.com/thirdcafe\", \"www.pinterest.com/fourthcafe\", \"www.youtube.com/fifthcafe\"],\n",
    "    \"Mon Hours\": [\"8AM-6PM\", \"9AM-5PM\", \"7AM-7PM\", \"10AM-8PM\", \"6AM-4PM\", \"Open 24 hours\"],\n",
    "    \"Tue Hours\": [\"8AM-6PM\", \"9AM-5PM\", \"7AM-7PM\", \"10AM-8PM\", \"6AM-4PM\", \"Open 24 hours\"],\n",
    "    \"Wed Hours\": [\"8AM-6PM\", \"9AM-5PM\", \"7AM-7PM\", \"10AM-8PM\", \"6AM-4PM\", \"Open 24 hours\"],\n",
    "    \"Thu Hours\": [\"8AM-6PM\", \"9AM-5PM\", \"7AM-7PM\", \"10AM-8PM\", \"6AM-4PM\", \"Open 24 hours\"],\n",
    "    \"Fri Hours\": [\"8AM-6PM\", \"9AM-5PM\", \"7AM-7PM\", \"10AM-10PM\", \"6AM-4PM\", \"Open 24 hours\"],\n",
    "    \"Sat Hours\": [\"9AM-4PM\", \"Closed\", \"8AM-2PM\", \"10AM-10PM\", \"7AM-3PM\", \"Open 24 hours\"],\n",
    "    \"Sun Hours\": [\"Closed\", \"Closed\", \"Closed\", \"Closed\", \"Closed\", \"Open 24 hours\"]\n",
    "}"
   ]
  },
  {
   "cell_type": "code",
   "execution_count": 4,
   "metadata": {},
   "outputs": [],
   "source": [
    "# Create a Pandas DataFrame\n",
    "df = pd.DataFrame(data)"
   ]
  },
  {
   "cell_type": "code",
   "execution_count": 5,
   "metadata": {},
   "outputs": [],
   "source": [
    "# Standardize data\n",
    "df[\"Postcode\"] = df[\"Postcode\"].str.replace(\" \", \"\").str.upper()\n",
    "df[\"Phone Number\"] = df[\"Phone Number\"].str.replace(\" \", \"\").str.replace(\"-\", \"\", regex=True)\n",
    "df[\"Social Media\"] = df[\"Social Media\"].str.replace(\"www.\", \"\", regex=True)\n"
   ]
  },
  {
   "cell_type": "code",
   "execution_count": 6,
   "metadata": {},
   "outputs": [],
   "source": [
    "# Renaming columns for clarity\n",
    "df.columns = [\"Business Name\", \"Postcode\", \"Phone Number\", \"Social Media\", \"Mon\", \"Tue\", \"Wed\", \"Thu\", \"Fri\", \"Sat\", \"Sun\"]"
   ]
  },
  {
   "cell_type": "code",
   "execution_count": 7,
   "metadata": {},
   "outputs": [
    {
     "name": "stdout",
     "output_type": "stream",
     "text": [
      "  Business Name Postcode Phone Number              Social Media  \\\n",
      "0  Holborn Cafe  WC1A1AB  02012345678  facebook.com/holborncafe   \n",
      "1  Another Cafe  WC2B2BB  02098765432   twitter.com/anothercafe   \n",
      "2   Cafe Bistro  WC3C3CC  02011112222  instagram.com/cafebistro   \n",
      "3    Third Cafe  WC4D4DD  02033334444    linkedin.com/thirdcafe   \n",
      "4   Fourth Cafe  WC5E5EE  02055556666  pinterest.com/fourthcafe   \n",
      "5    Fifth Cafe  WC6F6FF  02077778888     youtube.com/fifthcafe   \n",
      "\n",
      "             Mon            Tue            Wed            Thu            Fri  \\\n",
      "0        8AM-6PM        8AM-6PM        8AM-6PM        8AM-6PM        8AM-6PM   \n",
      "1        9AM-5PM        9AM-5PM        9AM-5PM        9AM-5PM        9AM-5PM   \n",
      "2        7AM-7PM        7AM-7PM        7AM-7PM        7AM-7PM        7AM-7PM   \n",
      "3       10AM-8PM       10AM-8PM       10AM-8PM       10AM-8PM      10AM-10PM   \n",
      "4        6AM-4PM        6AM-4PM        6AM-4PM        6AM-4PM        6AM-4PM   \n",
      "5  Open 24 hours  Open 24 hours  Open 24 hours  Open 24 hours  Open 24 hours   \n",
      "\n",
      "             Sat            Sun  \n",
      "0        9AM-4PM         Closed  \n",
      "1         Closed         Closed  \n",
      "2        8AM-2PM         Closed  \n",
      "3      10AM-10PM         Closed  \n",
      "4        7AM-3PM         Closed  \n",
      "5  Open 24 hours  Open 24 hours  \n"
     ]
    }
   ],
   "source": [
    "# Standardized DataFrame\n",
    "print(df)"
   ]
  },
  {
   "attachments": {},
   "cell_type": "markdown",
   "metadata": {},
   "source": [
    "This was the out out from the last cell"
   ]
  },
  {
   "cell_type": "code",
   "execution_count": 8,
   "metadata": {},
   "outputs": [],
   "source": [
    "# Write DataFrame to a csv file\n",
    "df.to_csv('holborn-output.csv', index=False)\n",
    "\n",
    "# If you want to write your DataFrame to an excel file, that's fine, just choose one\n",
    "# df.to_excel('output.xlsx', index=False)\n"
   ]
  }
 ],
 "metadata": {
  "kernelspec": {
   "display_name": "Python 3",
   "language": "python",
   "name": "python3"
  },
  "language_info": {
   "codemirror_mode": {
    "name": "ipython",
    "version": 3
   },
   "file_extension": ".py",
   "mimetype": "text/x-python",
   "name": "python",
   "nbconvert_exporter": "python",
   "pygments_lexer": "ipython3",
   "version": "3.7.3"
  },
  "orig_nbformat": 4,
  "vscode": {
   "interpreter": {
    "hash": "f94eebbdbcbf9e465c0fffd07e44f9c0ed7d85636a5e85396baa8bc5d92682ab"
   }
  }
 },
 "nbformat": 4,
 "nbformat_minor": 2
}
